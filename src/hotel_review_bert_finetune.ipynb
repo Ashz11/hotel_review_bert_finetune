{
 "cells": [
  {
   "cell_type": "markdown",
   "id": "ddc95479",
   "metadata": {},
   "source": [
    "# Imports"
   ]
  },
  {
   "cell_type": "code",
   "execution_count": 188,
   "id": "f72ffdec",
   "metadata": {
    "ExecuteTime": {
     "end_time": "2022-12-22T16:46:03.081744Z",
     "start_time": "2022-12-22T16:46:03.072784Z"
    }
   },
   "outputs": [],
   "source": [
    "import mlflow\n",
    "import pandas as pd\n",
    "import seaborn as sns\n",
    "import re\n",
    "from sklearn.compose import ColumnTransformer\n",
    "from sklearn.pipeline import Pipeline\n",
    "from sklearn.feature_extraction.text import TfidfVectorizer\n",
    "from sklearn.preprocessing import OneHotEncoder\n",
    "from sklearn.linear_model import LogisticRegression\n",
    "from sklearn.ensemble import RandomForestClassifier\n",
    "from sklearn.model_selection import GridSearchCV"
   ]
  },
  {
   "cell_type": "markdown",
   "id": "85bf44cc",
   "metadata": {},
   "source": [
    "# Reading Data"
   ]
  },
  {
   "cell_type": "code",
   "execution_count": 157,
   "id": "de1945a0",
   "metadata": {
    "ExecuteTime": {
     "end_time": "2022-12-22T16:24:25.552744Z",
     "start_time": "2022-12-22T16:24:24.398682Z"
    }
   },
   "outputs": [],
   "source": [
    "train_data = pd.read_csv('../data/train.csv')\n",
    "test_data = pd.read_csv('../data/test.csv')"
   ]
  },
  {
   "cell_type": "code",
   "execution_count": 158,
   "id": "4a9cc6cd",
   "metadata": {
    "ExecuteTime": {
     "end_time": "2022-12-22T16:24:25.632406Z",
     "start_time": "2022-12-22T16:24:25.603471Z"
    }
   },
   "outputs": [
    {
     "data": {
      "text/html": [
       "<div>\n",
       "<style scoped>\n",
       "    .dataframe tbody tr th:only-of-type {\n",
       "        vertical-align: middle;\n",
       "    }\n",
       "\n",
       "    .dataframe tbody tr th {\n",
       "        vertical-align: top;\n",
       "    }\n",
       "\n",
       "    .dataframe thead th {\n",
       "        text-align: right;\n",
       "    }\n",
       "</style>\n",
       "<table border=\"1\" class=\"dataframe\">\n",
       "  <thead>\n",
       "    <tr style=\"text-align: right;\">\n",
       "      <th></th>\n",
       "      <th>User_ID</th>\n",
       "      <th>Description</th>\n",
       "      <th>Browser_Used</th>\n",
       "      <th>Device_Used</th>\n",
       "      <th>Is_Response</th>\n",
       "    </tr>\n",
       "  </thead>\n",
       "  <tbody>\n",
       "    <tr>\n",
       "      <th>0</th>\n",
       "      <td>id10326</td>\n",
       "      <td>The room was kind of clean but had a VERY stro...</td>\n",
       "      <td>Edge</td>\n",
       "      <td>Mobile</td>\n",
       "      <td>not happy</td>\n",
       "    </tr>\n",
       "    <tr>\n",
       "      <th>1</th>\n",
       "      <td>id10327</td>\n",
       "      <td>I stayed at the Crown Plaza April -- - April -...</td>\n",
       "      <td>Internet Explorer</td>\n",
       "      <td>Mobile</td>\n",
       "      <td>not happy</td>\n",
       "    </tr>\n",
       "    <tr>\n",
       "      <th>2</th>\n",
       "      <td>id10328</td>\n",
       "      <td>I booked this hotel through Hotwire at the low...</td>\n",
       "      <td>Mozilla</td>\n",
       "      <td>Tablet</td>\n",
       "      <td>not happy</td>\n",
       "    </tr>\n",
       "    <tr>\n",
       "      <th>3</th>\n",
       "      <td>id10329</td>\n",
       "      <td>Stayed here with husband and sons on the way t...</td>\n",
       "      <td>InternetExplorer</td>\n",
       "      <td>Desktop</td>\n",
       "      <td>happy</td>\n",
       "    </tr>\n",
       "    <tr>\n",
       "      <th>4</th>\n",
       "      <td>id10330</td>\n",
       "      <td>My girlfriends and I stayed here to celebrate ...</td>\n",
       "      <td>Edge</td>\n",
       "      <td>Tablet</td>\n",
       "      <td>not happy</td>\n",
       "    </tr>\n",
       "  </tbody>\n",
       "</table>\n",
       "</div>"
      ],
      "text/plain": [
       "   User_ID                                        Description  \\\n",
       "0  id10326  The room was kind of clean but had a VERY stro...   \n",
       "1  id10327  I stayed at the Crown Plaza April -- - April -...   \n",
       "2  id10328  I booked this hotel through Hotwire at the low...   \n",
       "3  id10329  Stayed here with husband and sons on the way t...   \n",
       "4  id10330  My girlfriends and I stayed here to celebrate ...   \n",
       "\n",
       "        Browser_Used Device_Used Is_Response  \n",
       "0               Edge      Mobile   not happy  \n",
       "1  Internet Explorer      Mobile   not happy  \n",
       "2            Mozilla      Tablet   not happy  \n",
       "3   InternetExplorer     Desktop       happy  \n",
       "4               Edge      Tablet   not happy  "
      ]
     },
     "execution_count": 158,
     "metadata": {},
     "output_type": "execute_result"
    }
   ],
   "source": [
    "train_data.head()"
   ]
  },
  {
   "cell_type": "markdown",
   "id": "ea530639",
   "metadata": {},
   "source": [
    "# basic Eda"
   ]
  },
  {
   "cell_type": "code",
   "execution_count": 159,
   "id": "28b8113e",
   "metadata": {
    "ExecuteTime": {
     "end_time": "2022-12-22T16:24:26.966886Z",
     "start_time": "2022-12-22T16:24:26.930978Z"
    }
   },
   "outputs": [
    {
     "name": "stdout",
     "output_type": "stream",
     "text": [
      "<class 'pandas.core.frame.DataFrame'>\n",
      "RangeIndex: 38932 entries, 0 to 38931\n",
      "Data columns (total 5 columns):\n",
      " #   Column        Non-Null Count  Dtype \n",
      "---  ------        --------------  ----- \n",
      " 0   User_ID       38932 non-null  object\n",
      " 1   Description   38932 non-null  object\n",
      " 2   Browser_Used  38932 non-null  object\n",
      " 3   Device_Used   38932 non-null  object\n",
      " 4   Is_Response   38932 non-null  object\n",
      "dtypes: object(5)\n",
      "memory usage: 1.5+ MB\n"
     ]
    }
   ],
   "source": [
    "train_data.info()"
   ]
  },
  {
   "cell_type": "code",
   "execution_count": 56,
   "id": "6fd75015",
   "metadata": {
    "ExecuteTime": {
     "end_time": "2022-12-20T19:07:22.708441Z",
     "start_time": "2022-12-20T19:07:22.697470Z"
    }
   },
   "outputs": [
    {
     "data": {
      "text/plain": [
       "happy        0.681213\n",
       "not happy    0.318787\n",
       "Name: Is_Response, dtype: float64"
      ]
     },
     "execution_count": 56,
     "metadata": {},
     "output_type": "execute_result"
    }
   ],
   "source": [
    "train_data['Is_Response'].value_counts()/len(train_data)"
   ]
  },
  {
   "cell_type": "code",
   "execution_count": 57,
   "id": "b18d93b0",
   "metadata": {
    "ExecuteTime": {
     "end_time": "2022-12-20T19:07:23.672348Z",
     "start_time": "2022-12-20T19:07:23.509753Z"
    }
   },
   "outputs": [
    {
     "data": {
      "text/html": [
       "<div>\n",
       "<style scoped>\n",
       "    .dataframe tbody tr th:only-of-type {\n",
       "        vertical-align: middle;\n",
       "    }\n",
       "\n",
       "    .dataframe tbody tr th {\n",
       "        vertical-align: top;\n",
       "    }\n",
       "\n",
       "    .dataframe thead th {\n",
       "        text-align: right;\n",
       "    }\n",
       "</style>\n",
       "<table border=\"1\" class=\"dataframe\">\n",
       "  <thead>\n",
       "    <tr style=\"text-align: right;\">\n",
       "      <th></th>\n",
       "      <th>User_ID</th>\n",
       "      <th>Description</th>\n",
       "      <th>Browser_Used</th>\n",
       "      <th>Device_Used</th>\n",
       "      <th>Is_Response</th>\n",
       "    </tr>\n",
       "  </thead>\n",
       "  <tbody>\n",
       "  </tbody>\n",
       "</table>\n",
       "</div>"
      ],
      "text/plain": [
       "Empty DataFrame\n",
       "Columns: [User_ID, Description, Browser_Used, Device_Used, Is_Response]\n",
       "Index: []"
      ]
     },
     "execution_count": 57,
     "metadata": {},
     "output_type": "execute_result"
    }
   ],
   "source": [
    "train_data[train_data.duplicated()]"
   ]
  },
  {
   "cell_type": "code",
   "execution_count": 58,
   "id": "6cb8cece",
   "metadata": {
    "ExecuteTime": {
     "end_time": "2022-12-20T19:07:24.957670Z",
     "start_time": "2022-12-20T19:07:24.934715Z"
    }
   },
   "outputs": [
    {
     "data": {
      "text/plain": [
       "Firefox              7367\n",
       "Edge                 7134\n",
       "Google Chrome        4659\n",
       "InternetExplorer     4588\n",
       "Mozilla Firefox      4328\n",
       "Mozilla              3092\n",
       "Chrome               2470\n",
       "IE                   2439\n",
       "Internet Explorer    2103\n",
       "Safari                390\n",
       "Opera                 362\n",
       "Name: Browser_Used, dtype: int64"
      ]
     },
     "execution_count": 58,
     "metadata": {},
     "output_type": "execute_result"
    }
   ],
   "source": [
    "train_data['Browser_Used'].value_counts()"
   ]
  },
  {
   "cell_type": "code",
   "execution_count": 59,
   "id": "f87f5e3d",
   "metadata": {
    "ExecuteTime": {
     "end_time": "2022-12-20T19:07:25.761241Z",
     "start_time": "2022-12-20T19:07:25.744314Z"
    }
   },
   "outputs": [
    {
     "data": {
      "text/plain": [
       "Desktop    15026\n",
       "Mobile     14976\n",
       "Tablet      8930\n",
       "Name: Device_Used, dtype: int64"
      ]
     },
     "execution_count": 59,
     "metadata": {},
     "output_type": "execute_result"
    }
   ],
   "source": [
    "train_data['Device_Used'].value_counts()"
   ]
  },
  {
   "cell_type": "code",
   "execution_count": 61,
   "id": "f01b6f15",
   "metadata": {
    "ExecuteTime": {
     "end_time": "2022-12-20T19:08:51.387589Z",
     "start_time": "2022-12-20T19:08:51.382584Z"
    }
   },
   "outputs": [],
   "source": [
    "def check_response_distribution(subset_cols):\n",
    "    \n",
    "    print(train_data[train_data['Browser_Used'].isin(subset_cols)]['Is_Response'].value_counts(normalize=True))\n",
    "    "
   ]
  },
  {
   "cell_type": "code",
   "execution_count": 62,
   "id": "c710d53c",
   "metadata": {
    "ExecuteTime": {
     "end_time": "2022-12-20T19:08:51.850161Z",
     "start_time": "2022-12-20T19:08:51.826197Z"
    }
   },
   "outputs": [
    {
     "name": "stdout",
     "output_type": "stream",
     "text": [
      "happy        0.740065\n",
      "not happy    0.259935\n",
      "Name: Is_Response, dtype: float64\n"
     ]
    }
   ],
   "source": [
    "check_response_distribution(['Mozilla Firefox'])"
   ]
  },
  {
   "cell_type": "code",
   "execution_count": 63,
   "id": "59eb146a",
   "metadata": {
    "ExecuteTime": {
     "end_time": "2022-12-20T19:08:52.051195Z",
     "start_time": "2022-12-20T19:08:52.032202Z"
    }
   },
   "outputs": [
    {
     "name": "stdout",
     "output_type": "stream",
     "text": [
      "happy        0.500204\n",
      "not happy    0.499796\n",
      "Name: Is_Response, dtype: float64\n"
     ]
    }
   ],
   "source": [
    "check_response_distribution(['Firefox'])"
   ]
  },
  {
   "cell_type": "code",
   "execution_count": 64,
   "id": "d9904cee",
   "metadata": {
    "ExecuteTime": {
     "end_time": "2022-12-20T19:08:52.237381Z",
     "start_time": "2022-12-20T19:08:52.215722Z"
    }
   },
   "outputs": [
    {
     "name": "stdout",
     "output_type": "stream",
     "text": [
      "happy        0.595408\n",
      "not happy    0.404592\n",
      "Name: Is_Response, dtype: float64\n"
     ]
    }
   ],
   "source": [
    "check_response_distribution(['Mozilla'])"
   ]
  },
  {
   "cell_type": "code",
   "execution_count": 65,
   "id": "c330ca0a",
   "metadata": {
    "ExecuteTime": {
     "end_time": "2022-12-20T19:08:52.411160Z",
     "start_time": "2022-12-20T19:08:52.389216Z"
    }
   },
   "outputs": [
    {
     "name": "stdout",
     "output_type": "stream",
     "text": [
      "happy        0.58897\n",
      "not happy    0.41103\n",
      "Name: Is_Response, dtype: float64\n"
     ]
    }
   ],
   "source": [
    "check_response_distribution(['Firefox','Mozilla Firefox'])"
   ]
  },
  {
   "cell_type": "code",
   "execution_count": 66,
   "id": "f681288d",
   "metadata": {
    "ExecuteTime": {
     "end_time": "2022-12-20T19:08:53.734705Z",
     "start_time": "2022-12-20T19:08:53.719743Z"
    }
   },
   "outputs": [
    {
     "name": "stdout",
     "output_type": "stream",
     "text": [
      "happy        0.86834\n",
      "not happy    0.13166\n",
      "Name: Is_Response, dtype: float64\n"
     ]
    }
   ],
   "source": [
    "check_response_distribution(['IE','Internet Explorer'])"
   ]
  },
  {
   "cell_type": "code",
   "execution_count": 67,
   "id": "3394510d",
   "metadata": {
    "ExecuteTime": {
     "end_time": "2022-12-20T19:08:53.921206Z",
     "start_time": "2022-12-20T19:08:53.906796Z"
    }
   },
   "outputs": [
    {
     "name": "stdout",
     "output_type": "stream",
     "text": [
      "happy        0.863242\n",
      "not happy    0.136758\n",
      "Name: Is_Response, dtype: float64\n"
     ]
    }
   ],
   "source": [
    "check_response_distribution(['IE','InternetExplorer'])"
   ]
  },
  {
   "cell_type": "code",
   "execution_count": 68,
   "id": "973e3808",
   "metadata": {
    "ExecuteTime": {
     "end_time": "2022-12-20T19:08:54.124692Z",
     "start_time": "2022-12-20T19:08:54.106709Z"
    }
   },
   "outputs": [
    {
     "name": "stdout",
     "output_type": "stream",
     "text": [
      "happy        0.860599\n",
      "not happy    0.139401\n",
      "Name: Is_Response, dtype: float64\n"
     ]
    }
   ],
   "source": [
    "check_response_distribution(['IE'])"
   ]
  },
  {
   "cell_type": "code",
   "execution_count": 69,
   "id": "41b6b2b8",
   "metadata": {
    "ExecuteTime": {
     "end_time": "2022-12-20T19:08:54.231377Z",
     "start_time": "2022-12-20T19:08:54.215450Z"
    }
   },
   "outputs": [
    {
     "data": {
      "text/plain": [
       "happy        0.851417\n",
       "not happy    0.148583\n",
       "Name: Is_Response, dtype: float64"
      ]
     },
     "execution_count": 69,
     "metadata": {},
     "output_type": "execute_result"
    }
   ],
   "source": [
    "train_data[train_data['Browser_Used'].isin(['Chrome'])]['Is_Response'].value_counts(normalize=True)"
   ]
  },
  {
   "cell_type": "code",
   "execution_count": 70,
   "id": "8faa9c65",
   "metadata": {
    "ExecuteTime": {
     "end_time": "2022-12-20T19:08:55.601785Z",
     "start_time": "2022-12-20T19:08:55.589778Z"
    }
   },
   "outputs": [
    {
     "data": {
      "text/plain": [
       "happy        0.866066\n",
       "not happy    0.133934\n",
       "Name: Is_Response, dtype: float64"
      ]
     },
     "execution_count": 70,
     "metadata": {},
     "output_type": "execute_result"
    }
   ],
   "source": [
    "train_data[train_data['Browser_Used'].isin(['Google Chrome'])]['Is_Response'].value_counts(normalize=True)"
   ]
  },
  {
   "cell_type": "code",
   "execution_count": 71,
   "id": "eca2f76d",
   "metadata": {
    "ExecuteTime": {
     "end_time": "2022-12-20T19:08:55.804175Z",
     "start_time": "2022-12-20T19:08:55.786220Z"
    }
   },
   "outputs": [
    {
     "data": {
      "text/plain": [
       "not happy    0.548921\n",
       "happy        0.451079\n",
       "Name: Is_Response, dtype: float64"
      ]
     },
     "execution_count": 71,
     "metadata": {},
     "output_type": "execute_result"
    }
   ],
   "source": [
    "train_data[train_data['Browser_Used'].isin(['Edge'])]['Is_Response'].value_counts(normalize=True)"
   ]
  },
  {
   "cell_type": "code",
   "execution_count": 72,
   "id": "aac1ffb8",
   "metadata": {
    "ExecuteTime": {
     "end_time": "2022-12-20T19:08:55.975703Z",
     "start_time": "2022-12-20T19:08:55.953755Z"
    }
   },
   "outputs": [
    {
     "data": {
      "text/plain": [
       "happy        0.665746\n",
       "not happy    0.334254\n",
       "Name: Is_Response, dtype: float64"
      ]
     },
     "execution_count": 72,
     "metadata": {},
     "output_type": "execute_result"
    }
   ],
   "source": [
    "train_data[train_data['Browser_Used'].isin(['Opera'])]['Is_Response'].value_counts(normalize=True)"
   ]
  },
  {
   "cell_type": "code",
   "execution_count": 73,
   "id": "0cff1714",
   "metadata": {
    "ExecuteTime": {
     "end_time": "2022-12-20T19:08:56.147258Z",
     "start_time": "2022-12-20T19:08:56.127292Z"
    }
   },
   "outputs": [
    {
     "data": {
      "text/plain": [
       "happy        0.728205\n",
       "not happy    0.271795\n",
       "Name: Is_Response, dtype: float64"
      ]
     },
     "execution_count": 73,
     "metadata": {},
     "output_type": "execute_result"
    }
   ],
   "source": [
    "train_data[train_data['Browser_Used'].isin(['Safari'])]['Is_Response'].value_counts(normalize=True)"
   ]
  },
  {
   "cell_type": "markdown",
   "id": "fb9b35d5",
   "metadata": {},
   "source": [
    "## Merging Similar Browser used values"
   ]
  },
  {
   "cell_type": "code",
   "execution_count": 160,
   "id": "cb31969c",
   "metadata": {
    "ExecuteTime": {
     "end_time": "2022-12-22T16:24:31.435731Z",
     "start_time": "2022-12-22T16:24:31.425786Z"
    }
   },
   "outputs": [],
   "source": [
    "map_dict = {'Google Chrome':'Chrome',\n",
    "           'InternetExplorer':'IE',\n",
    "           'Internet Explorer':'IE',\n",
    "           'Mozilla Firefox':'Firefox',\n",
    "           'Mozilla':'Firefox'}"
   ]
  },
  {
   "cell_type": "code",
   "execution_count": 167,
   "id": "9667bce4",
   "metadata": {
    "ExecuteTime": {
     "end_time": "2022-12-22T16:26:49.133624Z",
     "start_time": "2022-12-22T16:26:49.126622Z"
    }
   },
   "outputs": [],
   "source": [
    "def map_browser(df):\n",
    "    \n",
    "    \n",
    "    df['Browser_Used'] = df['Browser_Used'].replace(map_dict)\n",
    "\n",
    "    return df\n",
    "    \n",
    "    "
   ]
  },
  {
   "cell_type": "code",
   "execution_count": 163,
   "id": "e014a658",
   "metadata": {
    "ExecuteTime": {
     "end_time": "2022-12-22T16:24:44.711621Z",
     "start_time": "2022-12-22T16:24:44.682666Z"
    }
   },
   "outputs": [
    {
     "data": {
      "text/plain": [
       "Firefox    14787\n",
       "IE          9130\n",
       "Edge        7134\n",
       "Chrome      7129\n",
       "Safari       390\n",
       "Opera        362\n",
       "Name: Browser_Used, dtype: int64"
      ]
     },
     "execution_count": 163,
     "metadata": {},
     "output_type": "execute_result"
    }
   ],
   "source": [
    "train_data = map_browser(train_data)\n",
    "\n",
    "train_data['Browser_Used'].value_counts()"
   ]
  },
  {
   "cell_type": "code",
   "execution_count": 81,
   "id": "5cb6bf83",
   "metadata": {
    "ExecuteTime": {
     "end_time": "2022-12-20T19:13:08.312363Z",
     "start_time": "2022-12-20T19:13:08.097917Z"
    }
   },
   "outputs": [
    {
     "data": {
      "text/plain": [
       "<AxesSubplot:xlabel='Device_Used', ylabel='count'>"
      ]
     },
     "execution_count": 81,
     "metadata": {},
     "output_type": "execute_result"
    },
    {
     "data": {
      "image/png": "[encoded data removed]",
      "text/plain": [
       "<Figure size 432x288 with 1 Axes>"
      ]
     },
     "metadata": {
      "needs_background": "light"
     },
     "output_type": "display_data"
    }
   ],
   "source": [
    "sns.countplot(data=train_data,x='Device_Used',hue='Is_Response')"
   ]
  },
  {
   "cell_type": "code",
   "execution_count": 82,
   "id": "b35500bd",
   "metadata": {
    "ExecuteTime": {
     "end_time": "2022-12-20T19:13:51.521393Z",
     "start_time": "2022-12-20T19:13:51.299975Z"
    }
   },
   "outputs": [
    {
     "data": {
      "text/plain": [
       "<AxesSubplot:xlabel='Browser_Used', ylabel='count'>"
      ]
     },
     "execution_count": 82,
     "metadata": {},
     "output_type": "execute_result"
    },
    {
     "data": {
      "image/png": "[encoded data removed]",
      "text/plain": [
       "<Figure size 432x288 with 1 Axes>"
      ]
     },
     "metadata": {
      "needs_background": "light"
     },
     "output_type": "display_data"
    }
   ],
   "source": [
    "sns.countplot(data=train_data,x='Browser_Used',hue='Is_Response')"
   ]
  },
  {
   "cell_type": "code",
   "execution_count": 86,
   "id": "0cdac4f5",
   "metadata": {
    "ExecuteTime": {
     "end_time": "2022-12-22T15:30:15.065761Z",
     "start_time": "2022-12-22T15:30:15.012317Z"
    }
   },
   "outputs": [
    {
     "data": {
      "text/plain": [
       "count    38932.000000\n",
       "mean       866.276482\n",
       "std        719.255343\n",
       "min         20.000000\n",
       "25%        405.000000\n",
       "50%        676.000000\n",
       "75%       1095.000000\n",
       "max      14340.000000\n",
       "Name: desc_len, dtype: float64"
      ]
     },
     "execution_count": 86,
     "metadata": {},
     "output_type": "execute_result"
    }
   ],
   "source": [
    "train_data['desc_len'] = train_data['Description'].str.len()\n",
    "train_data['desc_len'].describe()"
   ]
  },
  {
   "cell_type": "code",
   "execution_count": 87,
   "id": "b0310082",
   "metadata": {
    "ExecuteTime": {
     "end_time": "2022-12-22T15:30:15.903469Z",
     "start_time": "2022-12-22T15:30:15.345044Z"
    }
   },
   "outputs": [
    {
     "data": {
      "text/plain": [
       "<AxesSubplot:xlabel='Is_Response', ylabel='desc_len'>"
      ]
     },
     "execution_count": 87,
     "metadata": {},
     "output_type": "execute_result"
    },
    {
     "data": {
      "image/png": "[encoded data removed]",
      "text/plain": [
       "<Figure size 432x288 with 1 Axes>"
      ]
     },
     "metadata": {
      "needs_background": "light"
     },
     "output_type": "display_data"
    }
   ],
   "source": [
    "sns.boxplot(data=train_data,y='desc_len',x='Is_Response')"
   ]
  },
  {
   "cell_type": "code",
   "execution_count": 88,
   "id": "5cadaf74",
   "metadata": {
    "ExecuteTime": {
     "end_time": "2022-12-22T15:30:16.384152Z",
     "start_time": "2022-12-22T15:30:15.921392Z"
    }
   },
   "outputs": [
    {
     "data": {
      "text/plain": [
       "count    38932.000000\n",
       "mean       157.347555\n",
       "std        131.056426\n",
       "min          4.000000\n",
       "25%         73.000000\n",
       "50%        123.000000\n",
       "75%        199.000000\n",
       "max       2289.000000\n",
       "Name: Description_wcount, dtype: float64"
      ]
     },
     "execution_count": 88,
     "metadata": {},
     "output_type": "execute_result"
    }
   ],
   "source": [
    "train_data['Description_wcount'] = train_data['Description'].apply(lambda x: len(x.split()))\n",
    "train_data['Description_wcount'].describe()"
   ]
  },
  {
   "cell_type": "code",
   "execution_count": 89,
   "id": "7802f52b",
   "metadata": {
    "ExecuteTime": {
     "end_time": "2022-12-22T15:30:17.972535Z",
     "start_time": "2022-12-22T15:30:17.828720Z"
    }
   },
   "outputs": [
    {
     "data": {
      "text/plain": [
       "<AxesSubplot:xlabel='Is_Response', ylabel='Description_wcount'>"
      ]
     },
     "execution_count": 89,
     "metadata": {},
     "output_type": "execute_result"
    },
    {
     "data": {
      "image/png": "[encoded data removed]",
      "text/plain": [
       "<Figure size 432x288 with 1 Axes>"
      ]
     },
     "metadata": {
      "needs_background": "light"
     },
     "output_type": "display_data"
    }
   ],
   "source": [
    "sns.boxplot(data=train_data,y='Description_wcount',x='Is_Response')"
   ]
  },
  {
   "cell_type": "code",
   "execution_count": 90,
   "id": "2fdbfd68",
   "metadata": {
    "ExecuteTime": {
     "end_time": "2022-12-22T15:30:18.066950Z",
     "start_time": "2022-12-22T15:30:18.041026Z"
    }
   },
   "outputs": [
    {
     "data": {
      "text/html": [
       "<div>\n",
       "<style scoped>\n",
       "    .dataframe tbody tr th:only-of-type {\n",
       "        vertical-align: middle;\n",
       "    }\n",
       "\n",
       "    .dataframe tbody tr th {\n",
       "        vertical-align: top;\n",
       "    }\n",
       "\n",
       "    .dataframe thead th {\n",
       "        text-align: right;\n",
       "    }\n",
       "</style>\n",
       "<table border=\"1\" class=\"dataframe\">\n",
       "  <thead>\n",
       "    <tr style=\"text-align: right;\">\n",
       "      <th></th>\n",
       "      <th>desc_len</th>\n",
       "      <th>Description_wcount</th>\n",
       "    </tr>\n",
       "  </thead>\n",
       "  <tbody>\n",
       "    <tr>\n",
       "      <th>count</th>\n",
       "      <td>893.000000</td>\n",
       "      <td>893.000000</td>\n",
       "    </tr>\n",
       "    <tr>\n",
       "      <th>mean</th>\n",
       "      <td>3813.262038</td>\n",
       "      <td>695.189250</td>\n",
       "    </tr>\n",
       "    <tr>\n",
       "      <th>std</th>\n",
       "      <td>1161.766030</td>\n",
       "      <td>206.991808</td>\n",
       "    </tr>\n",
       "    <tr>\n",
       "      <th>min</th>\n",
       "      <td>2515.000000</td>\n",
       "      <td>513.000000</td>\n",
       "    </tr>\n",
       "    <tr>\n",
       "      <th>25%</th>\n",
       "      <td>3080.000000</td>\n",
       "      <td>564.000000</td>\n",
       "    </tr>\n",
       "    <tr>\n",
       "      <th>50%</th>\n",
       "      <td>3455.000000</td>\n",
       "      <td>630.000000</td>\n",
       "    </tr>\n",
       "    <tr>\n",
       "      <th>75%</th>\n",
       "      <td>4097.000000</td>\n",
       "      <td>747.000000</td>\n",
       "    </tr>\n",
       "    <tr>\n",
       "      <th>max</th>\n",
       "      <td>14340.000000</td>\n",
       "      <td>2289.000000</td>\n",
       "    </tr>\n",
       "  </tbody>\n",
       "</table>\n",
       "</div>"
      ],
      "text/plain": [
       "           desc_len  Description_wcount\n",
       "count    893.000000          893.000000\n",
       "mean    3813.262038          695.189250\n",
       "std     1161.766030          206.991808\n",
       "min     2515.000000          513.000000\n",
       "25%     3080.000000          564.000000\n",
       "50%     3455.000000          630.000000\n",
       "75%     4097.000000          747.000000\n",
       "max    14340.000000         2289.000000"
      ]
     },
     "execution_count": 90,
     "metadata": {},
     "output_type": "execute_result"
    }
   ],
   "source": [
    "train_data[train_data['Description_wcount'] > 512].describe()"
   ]
  },
  {
   "cell_type": "markdown",
   "id": "4bb5f976",
   "metadata": {},
   "source": [
    "1. \\n -> with ' '\n",
    "2. multiple \"\"\"\"\"\"\"\" with ''\n",
    "3. numbers are replaced with $--,--, -th, -st, --nd, --rd , to be replaced with ''"
   ]
  },
  {
   "cell_type": "markdown",
   "id": "46c590bb",
   "metadata": {},
   "source": [
    "## Cleaning the text"
   ]
  },
  {
   "cell_type": "code",
   "execution_count": 91,
   "id": "f94fa0d5",
   "metadata": {
    "ExecuteTime": {
     "end_time": "2022-12-22T15:30:20.689578Z",
     "start_time": "2022-12-22T15:30:20.676581Z"
    }
   },
   "outputs": [
    {
     "data": {
      "text/plain": [
       "\"I stayed at the Crown Plaza April -- - April --, ----. The staff was friendly and attentive. The elevators are tiny (about -' by -'). The food in the restaurant was delicious but priced a little on the high side. Of course this is Washington DC. There is no pool and little for children to do. My room on the fifth floor had two comfortable beds and plenty of space for one person. The TV is a little small by todays standards with a limited number of channels. There was a small bit of mold in the bathtub area that could have been removed with a little bleach. It appeared the carpets were not vacummed every day. I reported a light bulb was burned out. It was never replaced. Ice machines are on the odd numbered floors, but the one on my floor did not work. I encountered some staff in the elevator one evening and I mentioned the ice machine to them. Severel hours later a maid appeared at my door with ice and two mints. I'm not sure how they knew what room I was in. That was a little unnerving! I would stay here again for business, but would not come here on vacation.\""
      ]
     },
     "execution_count": 91,
     "metadata": {},
     "output_type": "execute_result"
    }
   ],
   "source": [
    "train_data['Description'].iloc[1]"
   ]
  },
  {
   "cell_type": "code",
   "execution_count": 92,
   "id": "8023ba1b",
   "metadata": {
    "ExecuteTime": {
     "end_time": "2022-12-22T15:30:20.892276Z",
     "start_time": "2022-12-22T15:30:20.876286Z"
    }
   },
   "outputs": [
    {
     "data": {
      "text/plain": [
       "\"I stayed at the Crown Plaza April -- - April --, ----. The staff was friendly and attentive. The elevators are tiny (about -' by -'). The food in the restaurant was delicious but priced a little on the high side. Of course this is Washington DC. There is no pool and little for children to do. My room on the fifth floor had two comfortable beds and plenty of space for one person. The TV is a little small by todays standards with a limited number of channels. There was a small bit of mold in the bathtub area that could have been removed with a little bleach. It appeared the carpets were not vacummed every day. I reported a light bulb was burned out. It was never replaced. Ice machines are on the odd numbered floors, but the one on my floor did not work. I encountered some staff in the elevator one evening and I mentioned the ice machine to them. Severel hours later a maid appeared at my door with ice and two mints. I'm not sure how they knew what room I was in. That was a little unnerving! I would stay here again for business, but would not come here on vacation.\""
      ]
     },
     "execution_count": 92,
     "metadata": {},
     "output_type": "execute_result"
    }
   ],
   "source": [
    "a = train_data['Description'].iloc[1].replace('\\n', ' ')\n",
    "a"
   ]
  },
  {
   "cell_type": "code",
   "execution_count": 93,
   "id": "4682ce2b",
   "metadata": {
    "ExecuteTime": {
     "end_time": "2022-12-22T15:30:21.065099Z",
     "start_time": "2022-12-22T15:30:21.058712Z"
    }
   },
   "outputs": [
    {
     "data": {
      "text/plain": [
       "\"I stayed at the Crown Plaza April   - April  ,   . The staff was friendly and attentive. The elevators are tiny (about -' by -'). The food in the restaurant was delicious but priced a little on the high side. Of course this is Washington DC. There is no pool and little for children to do. My room on the fifth floor had two comfortable beds and plenty of space for one person. The TV is a little small by todays standards with a limited number of channels. There was a small bit of mold in the bathtub area that could have been removed with a little bleach. It appeared the carpets were not vacummed every day. I reported a light bulb was burned out. It was never replaced. Ice machines are on the odd numbered floors, but the one on my floor did not work. I encountered some staff in the elevator one evening and I mentioned the ice machine to them. Severel hours later a maid appeared at my door with ice and two mints. I'm not sure how they knew what room I was in. That was a little unnerving! I would stay here again for business, but would not come here on vacation.\""
      ]
     },
     "execution_count": 93,
     "metadata": {},
     "output_type": "execute_result"
    }
   ],
   "source": [
    "a = re.sub(r'\\$*--(th|st|rd|nd)*|(\"\")+',\" \",a)\n",
    "a"
   ]
  },
  {
   "cell_type": "code",
   "execution_count": 166,
   "id": "edbe759f",
   "metadata": {
    "ExecuteTime": {
     "end_time": "2022-12-22T16:26:43.905211Z",
     "start_time": "2022-12-22T16:26:43.897258Z"
    }
   },
   "outputs": [],
   "source": [
    "def clean_desc(df:pd.DataFrame):\n",
    "    \n",
    "    df['Description'] = df['Description'].str.replace('\\n',\"\").replace(r'\\$*--(th|st|rd|nd)*|(\"\")+','',regex=True)\n",
    "    \n",
    "    return df\n",
    "\n",
    "\n",
    "# train_data['Description'] = train_data['Description'].str.replace('\\n',\"\").replace(r'\\$*--(th|st|rd|nd)*|(\"\")+','',regex=True)"
   ]
  },
  {
   "cell_type": "code",
   "execution_count": 95,
   "id": "de6d102e",
   "metadata": {
    "ExecuteTime": {
     "end_time": "2022-12-22T15:30:24.862160Z",
     "start_time": "2022-12-22T15:30:24.834239Z"
    }
   },
   "outputs": [
    {
     "data": {
      "text/html": [
       "<div>\n",
       "<style scoped>\n",
       "    .dataframe tbody tr th:only-of-type {\n",
       "        vertical-align: middle;\n",
       "    }\n",
       "\n",
       "    .dataframe tbody tr th {\n",
       "        vertical-align: top;\n",
       "    }\n",
       "\n",
       "    .dataframe thead th {\n",
       "        text-align: right;\n",
       "    }\n",
       "</style>\n",
       "<table border=\"1\" class=\"dataframe\">\n",
       "  <thead>\n",
       "    <tr style=\"text-align: right;\">\n",
       "      <th></th>\n",
       "      <th>User_ID</th>\n",
       "      <th>Description</th>\n",
       "      <th>Browser_Used</th>\n",
       "      <th>Device_Used</th>\n",
       "      <th>Is_Response</th>\n",
       "      <th>desc_len</th>\n",
       "      <th>Description_wcount</th>\n",
       "    </tr>\n",
       "  </thead>\n",
       "  <tbody>\n",
       "    <tr>\n",
       "      <th>0</th>\n",
       "      <td>id10326</td>\n",
       "      <td>The room was kind of clean but had a VERY stro...</td>\n",
       "      <td>Edge</td>\n",
       "      <td>Mobile</td>\n",
       "      <td>not happy</td>\n",
       "      <td>248</td>\n",
       "      <td>46</td>\n",
       "    </tr>\n",
       "    <tr>\n",
       "      <th>1</th>\n",
       "      <td>id10327</td>\n",
       "      <td>I stayed at the Crown Plaza April  - April , ....</td>\n",
       "      <td>IE</td>\n",
       "      <td>Mobile</td>\n",
       "      <td>not happy</td>\n",
       "      <td>1077</td>\n",
       "      <td>208</td>\n",
       "    </tr>\n",
       "    <tr>\n",
       "      <th>2</th>\n",
       "      <td>id10328</td>\n",
       "      <td>I booked this hotel through Hotwire at the low...</td>\n",
       "      <td>Firefox</td>\n",
       "      <td>Tablet</td>\n",
       "      <td>not happy</td>\n",
       "      <td>1327</td>\n",
       "      <td>232</td>\n",
       "    </tr>\n",
       "    <tr>\n",
       "      <th>3</th>\n",
       "      <td>id10329</td>\n",
       "      <td>Stayed here with husband and sons on the way t...</td>\n",
       "      <td>IE</td>\n",
       "      <td>Desktop</td>\n",
       "      <td>happy</td>\n",
       "      <td>502</td>\n",
       "      <td>93</td>\n",
       "    </tr>\n",
       "    <tr>\n",
       "      <th>4</th>\n",
       "      <td>id10330</td>\n",
       "      <td>My girlfriends and I stayed here to celebrate ...</td>\n",
       "      <td>Edge</td>\n",
       "      <td>Tablet</td>\n",
       "      <td>not happy</td>\n",
       "      <td>1613</td>\n",
       "      <td>297</td>\n",
       "    </tr>\n",
       "    <tr>\n",
       "      <th>...</th>\n",
       "      <td>...</td>\n",
       "      <td>...</td>\n",
       "      <td>...</td>\n",
       "      <td>...</td>\n",
       "      <td>...</td>\n",
       "      <td>...</td>\n",
       "      <td>...</td>\n",
       "    </tr>\n",
       "    <tr>\n",
       "      <th>38927</th>\n",
       "      <td>id49253</td>\n",
       "      <td>We arrived late at night and walked in to a ch...</td>\n",
       "      <td>Edge</td>\n",
       "      <td>Desktop</td>\n",
       "      <td>happy</td>\n",
       "      <td>769</td>\n",
       "      <td>140</td>\n",
       "    </tr>\n",
       "    <tr>\n",
       "      <th>38928</th>\n",
       "      <td>id49254</td>\n",
       "      <td>The only positive impression is location and p...</td>\n",
       "      <td>IE</td>\n",
       "      <td>Mobile</td>\n",
       "      <td>not happy</td>\n",
       "      <td>533</td>\n",
       "      <td>90</td>\n",
       "    </tr>\n",
       "    <tr>\n",
       "      <th>38929</th>\n",
       "      <td>id49255</td>\n",
       "      <td>Traveling with friends for shopping and a show...</td>\n",
       "      <td>Firefox</td>\n",
       "      <td>Mobile</td>\n",
       "      <td>not happy</td>\n",
       "      <td>1065</td>\n",
       "      <td>207</td>\n",
       "    </tr>\n",
       "    <tr>\n",
       "      <th>38930</th>\n",
       "      <td>id49256</td>\n",
       "      <td>The experience was just ok. We paid extra for ...</td>\n",
       "      <td>Chrome</td>\n",
       "      <td>Desktop</td>\n",
       "      <td>not happy</td>\n",
       "      <td>519</td>\n",
       "      <td>102</td>\n",
       "    </tr>\n",
       "    <tr>\n",
       "      <th>38931</th>\n",
       "      <td>id49257</td>\n",
       "      <td>The Westin is a wonderfully restored grande da...</td>\n",
       "      <td>Firefox</td>\n",
       "      <td>Desktop</td>\n",
       "      <td>happy</td>\n",
       "      <td>115</td>\n",
       "      <td>20</td>\n",
       "    </tr>\n",
       "  </tbody>\n",
       "</table>\n",
       "<p>38932 rows × 7 columns</p>\n",
       "</div>"
      ],
      "text/plain": [
       "       User_ID                                        Description  \\\n",
       "0      id10326  The room was kind of clean but had a VERY stro...   \n",
       "1      id10327  I stayed at the Crown Plaza April  - April , ....   \n",
       "2      id10328  I booked this hotel through Hotwire at the low...   \n",
       "3      id10329  Stayed here with husband and sons on the way t...   \n",
       "4      id10330  My girlfriends and I stayed here to celebrate ...   \n",
       "...        ...                                                ...   \n",
       "38927  id49253  We arrived late at night and walked in to a ch...   \n",
       "38928  id49254  The only positive impression is location and p...   \n",
       "38929  id49255  Traveling with friends for shopping and a show...   \n",
       "38930  id49256  The experience was just ok. We paid extra for ...   \n",
       "38931  id49257  The Westin is a wonderfully restored grande da...   \n",
       "\n",
       "      Browser_Used Device_Used Is_Response  desc_len  Description_wcount  \n",
       "0             Edge      Mobile   not happy       248                  46  \n",
       "1               IE      Mobile   not happy      1077                 208  \n",
       "2          Firefox      Tablet   not happy      1327                 232  \n",
       "3               IE     Desktop       happy       502                  93  \n",
       "4             Edge      Tablet   not happy      1613                 297  \n",
       "...            ...         ...         ...       ...                 ...  \n",
       "38927         Edge     Desktop       happy       769                 140  \n",
       "38928           IE      Mobile   not happy       533                  90  \n",
       "38929      Firefox      Mobile   not happy      1065                 207  \n",
       "38930       Chrome     Desktop   not happy       519                 102  \n",
       "38931      Firefox     Desktop       happy       115                  20  \n",
       "\n",
       "[38932 rows x 7 columns]"
      ]
     },
     "execution_count": 95,
     "metadata": {},
     "output_type": "execute_result"
    }
   ],
   "source": [
    "train_data"
   ]
  },
  {
   "cell_type": "code",
   "execution_count": 164,
   "id": "656a3ec1",
   "metadata": {
    "ExecuteTime": {
     "end_time": "2022-12-22T16:26:02.860680Z",
     "start_time": "2022-12-22T16:26:02.841725Z"
    }
   },
   "outputs": [],
   "source": [
    "def preprocess(df):\n",
    "    \n",
    "    df = map_browser(df)\n",
    "    df = clean_desc(df)\n",
    "    \n",
    "    return df"
   ]
  },
  {
   "cell_type": "markdown",
   "id": "67f9278f",
   "metadata": {},
   "source": [
    "## Baseline Model"
   ]
  },
  {
   "cell_type": "code",
   "execution_count": 178,
   "id": "34e3b374",
   "metadata": {
    "ExecuteTime": {
     "end_time": "2022-12-22T16:44:02.311287Z",
     "start_time": "2022-12-22T16:44:02.295329Z"
    }
   },
   "outputs": [],
   "source": [
    "ct = ColumnTransformer([\n",
    "    ('Tfidf_vectorizer',TfidfVectorizer(),'Description'),\n",
    "    ('ohe_bu',OneHotEncoder(),['Browser_Used','Device_Used']),\n",
    "\n",
    "])"
   ]
  },
  {
   "cell_type": "code",
   "execution_count": 179,
   "id": "114520e0",
   "metadata": {
    "ExecuteTime": {
     "end_time": "2022-12-22T16:44:02.623085Z",
     "start_time": "2022-12-22T16:44:02.615115Z"
    }
   },
   "outputs": [],
   "source": [
    "pipe_lr = Pipeline([\n",
    "    ('ct',ct),\n",
    "    ('lr',LogisticRegression())\n",
    "])"
   ]
  },
  {
   "cell_type": "code",
   "execution_count": 180,
   "id": "f58d6b3f",
   "metadata": {
    "ExecuteTime": {
     "end_time": "2022-12-22T16:44:10.582105Z",
     "start_time": "2022-12-22T16:44:03.086463Z"
    }
   },
   "outputs": [
    {
     "name": "stderr",
     "output_type": "stream",
     "text": [
      "C:\\Users\\Sagar\\AppData\\Roaming\\Python\\Python39\\site-packages\\sklearn\\linear_model\\_logistic.py:444: ConvergenceWarning: lbfgs failed to converge (status=1):\n",
      "STOP: TOTAL NO. of ITERATIONS REACHED LIMIT.\n",
      "\n",
      "Increase the number of iterations (max_iter) or scale the data as shown in:\n",
      "    https://scikit-learn.org/stable/modules/preprocessing.html\n",
      "Please also refer to the documentation for alternative solver options:\n",
      "    https://scikit-learn.org/stable/modules/linear_model.html#logistic-regression\n",
      "  n_iter_i = _check_optimize_result(\n"
     ]
    },
    {
     "data": {
      "text/html": [
       "<style>#sk-container-id-3 {color: black;background-color: white;}#sk-container-id-3 pre{padding: 0;}#sk-container-id-3 div.sk-toggleable {background-color: white;}#sk-container-id-3 label.sk-toggleable__label {cursor: pointer;display: block;width: 100%;margin-bottom: 0;padding: 0.3em;box-sizing: border-box;text-align: center;}#sk-container-id-3 label.sk-toggleable__label-arrow:before {content: \"▸\";float: left;margin-right: 0.25em;color: #696969;}#sk-container-id-3 label.sk-toggleable__label-arrow:hover:before {color: black;}#sk-container-id-3 div.sk-estimator:hover label.sk-toggleable__label-arrow:before {color: black;}#sk-container-id-3 div.sk-toggleable__content {max-height: 0;max-width: 0;overflow: hidden;text-align: left;background-color: #f0f8ff;}#sk-container-id-3 div.sk-toggleable__content pre {margin: 0.2em;color: black;border-radius: 0.25em;background-color: #f0f8ff;}#sk-container-id-3 input.sk-toggleable__control:checked~div.sk-toggleable__content {max-height: 200px;max-width: 100%;overflow: auto;}#sk-container-id-3 input.sk-toggleable__control:checked~label.sk-toggleable__label-arrow:before {content: \"▾\";}#sk-container-id-3 div.sk-estimator input.sk-toggleable__control:checked~label.sk-toggleable__label {background-color: #d4ebff;}#sk-container-id-3 div.sk-label input.sk-toggleable__control:checked~label.sk-toggleable__label {background-color: #d4ebff;}#sk-container-id-3 input.sk-hidden--visually {border: 0;clip: rect(1px 1px 1px 1px);clip: rect(1px, 1px, 1px, 1px);height: 1px;margin: -1px;overflow: hidden;padding: 0;position: absolute;width: 1px;}#sk-container-id-3 div.sk-estimator {font-family: monospace;background-color: #f0f8ff;border: 1px dotted black;border-radius: 0.25em;box-sizing: border-box;margin-bottom: 0.5em;}#sk-container-id-3 div.sk-estimator:hover {background-color: #d4ebff;}#sk-container-id-3 div.sk-parallel-item::after {content: \"\";width: 100%;border-bottom: 1px solid gray;flex-grow: 1;}#sk-container-id-3 div.sk-label:hover label.sk-toggleable__label {background-color: #d4ebff;}#sk-container-id-3 div.sk-serial::before {content: \"\";position: absolute;border-left: 1px solid gray;box-sizing: border-box;top: 0;bottom: 0;left: 50%;z-index: 0;}#sk-container-id-3 div.sk-serial {display: flex;flex-direction: column;align-items: center;background-color: white;padding-right: 0.2em;padding-left: 0.2em;position: relative;}#sk-container-id-3 div.sk-item {position: relative;z-index: 1;}#sk-container-id-3 div.sk-parallel {display: flex;align-items: stretch;justify-content: center;background-color: white;position: relative;}#sk-container-id-3 div.sk-item::before, #sk-container-id-3 div.sk-parallel-item::before {content: \"\";position: absolute;border-left: 1px solid gray;box-sizing: border-box;top: 0;bottom: 0;left: 50%;z-index: -1;}#sk-container-id-3 div.sk-parallel-item {display: flex;flex-direction: column;z-index: 1;position: relative;background-color: white;}#sk-container-id-3 div.sk-parallel-item:first-child::after {align-self: flex-end;width: 50%;}#sk-container-id-3 div.sk-parallel-item:last-child::after {align-self: flex-start;width: 50%;}#sk-container-id-3 div.sk-parallel-item:only-child::after {width: 0;}#sk-container-id-3 div.sk-dashed-wrapped {border: 1px dashed gray;margin: 0 0.4em 0.5em 0.4em;box-sizing: border-box;padding-bottom: 0.4em;background-color: white;}#sk-container-id-3 div.sk-label label {font-family: monospace;font-weight: bold;display: inline-block;line-height: 1.2em;}#sk-container-id-3 div.sk-label-container {text-align: center;}#sk-container-id-3 div.sk-container {/* jupyter's `normalize.less` sets `[hidden] { display: none; }` but bootstrap.min.css set `[hidden] { display: none !important; }` so we also need the `!important` here to be able to override the default hidden behavior on the sphinx rendered scikit-learn.org. See: https://github.com/scikit-learn/scikit-learn/issues/21755 */display: inline-block !important;position: relative;}#sk-container-id-3 div.sk-text-repr-fallback {display: none;}</style><div id=\"sk-container-id-3\" class=\"sk-top-container\"><div class=\"sk-text-repr-fallback\"><pre>Pipeline(steps=[(&#x27;ct&#x27;,\n",
       "                 ColumnTransformer(transformers=[(&#x27;Tfidf_vectorizer&#x27;,\n",
       "                                                  TfidfVectorizer(),\n",
       "                                                  &#x27;Description&#x27;),\n",
       "                                                 (&#x27;ohe_bu&#x27;, OneHotEncoder(),\n",
       "                                                  [&#x27;Browser_Used&#x27;,\n",
       "                                                   &#x27;Device_Used&#x27;])])),\n",
       "                (&#x27;lr&#x27;, LogisticRegression())])</pre><b>In a Jupyter environment, please rerun this cell to show the HTML representation or trust the notebook. <br />On GitHub, the HTML representation is unable to render, please try loading this page with nbviewer.org.</b></div><div class=\"sk-container\" hidden><div class=\"sk-item sk-dashed-wrapped\"><div class=\"sk-label-container\"><div class=\"sk-label sk-toggleable\"><input class=\"sk-toggleable__control sk-hidden--visually\" id=\"sk-estimator-id-17\" type=\"checkbox\" ><label for=\"sk-estimator-id-17\" class=\"sk-toggleable__label sk-toggleable__label-arrow\">Pipeline</label><div class=\"sk-toggleable__content\"><pre>Pipeline(steps=[(&#x27;ct&#x27;,\n",
       "                 ColumnTransformer(transformers=[(&#x27;Tfidf_vectorizer&#x27;,\n",
       "                                                  TfidfVectorizer(),\n",
       "                                                  &#x27;Description&#x27;),\n",
       "                                                 (&#x27;ohe_bu&#x27;, OneHotEncoder(),\n",
       "                                                  [&#x27;Browser_Used&#x27;,\n",
       "                                                   &#x27;Device_Used&#x27;])])),\n",
       "                (&#x27;lr&#x27;, LogisticRegression())])</pre></div></div></div><div class=\"sk-serial\"><div class=\"sk-item sk-dashed-wrapped\"><div class=\"sk-label-container\"><div class=\"sk-label sk-toggleable\"><input class=\"sk-toggleable__control sk-hidden--visually\" id=\"sk-estimator-id-18\" type=\"checkbox\" ><label for=\"sk-estimator-id-18\" class=\"sk-toggleable__label sk-toggleable__label-arrow\">ct: ColumnTransformer</label><div class=\"sk-toggleable__content\"><pre>ColumnTransformer(transformers=[(&#x27;Tfidf_vectorizer&#x27;, TfidfVectorizer(),\n",
       "                                 &#x27;Description&#x27;),\n",
       "                                (&#x27;ohe_bu&#x27;, OneHotEncoder(),\n",
       "                                 [&#x27;Browser_Used&#x27;, &#x27;Device_Used&#x27;])])</pre></div></div></div><div class=\"sk-parallel\"><div class=\"sk-parallel-item\"><div class=\"sk-item\"><div class=\"sk-label-container\"><div class=\"sk-label sk-toggleable\"><input class=\"sk-toggleable__control sk-hidden--visually\" id=\"sk-estimator-id-19\" type=\"checkbox\" ><label for=\"sk-estimator-id-19\" class=\"sk-toggleable__label sk-toggleable__label-arrow\">Tfidf_vectorizer</label><div class=\"sk-toggleable__content\"><pre>Description</pre></div></div></div><div class=\"sk-serial\"><div class=\"sk-item\"><div class=\"sk-estimator sk-toggleable\"><input class=\"sk-toggleable__control sk-hidden--visually\" id=\"sk-estimator-id-20\" type=\"checkbox\" ><label for=\"sk-estimator-id-20\" class=\"sk-toggleable__label sk-toggleable__label-arrow\">TfidfVectorizer</label><div class=\"sk-toggleable__content\"><pre>TfidfVectorizer()</pre></div></div></div></div></div></div><div class=\"sk-parallel-item\"><div class=\"sk-item\"><div class=\"sk-label-container\"><div class=\"sk-label sk-toggleable\"><input class=\"sk-toggleable__control sk-hidden--visually\" id=\"sk-estimator-id-21\" type=\"checkbox\" ><label for=\"sk-estimator-id-21\" class=\"sk-toggleable__label sk-toggleable__label-arrow\">ohe_bu</label><div class=\"sk-toggleable__content\"><pre>[&#x27;Browser_Used&#x27;, &#x27;Device_Used&#x27;]</pre></div></div></div><div class=\"sk-serial\"><div class=\"sk-item\"><div class=\"sk-estimator sk-toggleable\"><input class=\"sk-toggleable__control sk-hidden--visually\" id=\"sk-estimator-id-22\" type=\"checkbox\" ><label for=\"sk-estimator-id-22\" class=\"sk-toggleable__label sk-toggleable__label-arrow\">OneHotEncoder</label><div class=\"sk-toggleable__content\"><pre>OneHotEncoder()</pre></div></div></div></div></div></div></div></div><div class=\"sk-item\"><div class=\"sk-estimator sk-toggleable\"><input class=\"sk-toggleable__control sk-hidden--visually\" id=\"sk-estimator-id-23\" type=\"checkbox\" ><label for=\"sk-estimator-id-23\" class=\"sk-toggleable__label sk-toggleable__label-arrow\">LogisticRegression</label><div class=\"sk-toggleable__content\"><pre>LogisticRegression()</pre></div></div></div></div></div></div></div>"
      ],
      "text/plain": [
       "Pipeline(steps=[('ct',\n",
       "                 ColumnTransformer(transformers=[('Tfidf_vectorizer',\n",
       "                                                  TfidfVectorizer(),\n",
       "                                                  'Description'),\n",
       "                                                 ('ohe_bu', OneHotEncoder(),\n",
       "                                                  ['Browser_Used',\n",
       "                                                   'Device_Used'])])),\n",
       "                ('lr', LogisticRegression())])"
      ]
     },
     "execution_count": 180,
     "metadata": {},
     "output_type": "execute_result"
    }
   ],
   "source": [
    "pipe_lr.fit(train_data,train_data['Is_Response'])"
   ]
  },
  {
   "cell_type": "code",
   "execution_count": 181,
   "id": "57e5f7e0",
   "metadata": {
    "ExecuteTime": {
     "end_time": "2022-12-22T16:44:10.658872Z",
     "start_time": "2022-12-22T16:44:10.645909Z"
    }
   },
   "outputs": [
    {
     "data": {
      "text/plain": [
       "array(['User_ID', 'Description', 'Browser_Used', 'Device_Used',\n",
       "       'Is_Response'], dtype=object)"
      ]
     },
     "execution_count": 181,
     "metadata": {},
     "output_type": "execute_result"
    }
   ],
   "source": [
    "pipe_lr.feature_names_in_"
   ]
  },
  {
   "cell_type": "code",
   "execution_count": 182,
   "id": "3a177d9a",
   "metadata": {
    "ExecuteTime": {
     "end_time": "2022-12-22T16:44:10.736233Z",
     "start_time": "2022-12-22T16:44:10.706309Z"
    }
   },
   "outputs": [
    {
     "data": {
      "text/html": [
       "<div>\n",
       "<style scoped>\n",
       "    .dataframe tbody tr th:only-of-type {\n",
       "        vertical-align: middle;\n",
       "    }\n",
       "\n",
       "    .dataframe tbody tr th {\n",
       "        vertical-align: top;\n",
       "    }\n",
       "\n",
       "    .dataframe thead th {\n",
       "        text-align: right;\n",
       "    }\n",
       "</style>\n",
       "<table border=\"1\" class=\"dataframe\">\n",
       "  <thead>\n",
       "    <tr style=\"text-align: right;\">\n",
       "      <th></th>\n",
       "      <th>User_ID</th>\n",
       "      <th>Description</th>\n",
       "      <th>Browser_Used</th>\n",
       "      <th>Device_Used</th>\n",
       "      <th>Is_Response</th>\n",
       "    </tr>\n",
       "  </thead>\n",
       "  <tbody>\n",
       "    <tr>\n",
       "      <th>0</th>\n",
       "      <td>id80132</td>\n",
       "      <td>Looking for a motel in close proximity to TV t...</td>\n",
       "      <td>Firefox</td>\n",
       "      <td>Mobile</td>\n",
       "      <td>not happy</td>\n",
       "    </tr>\n",
       "    <tr>\n",
       "      <th>1</th>\n",
       "      <td>id80133</td>\n",
       "      <td>Walking distance to Madison Square Garden and ...</td>\n",
       "      <td>IE</td>\n",
       "      <td>Desktop</td>\n",
       "      <td>happy</td>\n",
       "    </tr>\n",
       "    <tr>\n",
       "      <th>2</th>\n",
       "      <td>id80134</td>\n",
       "      <td>Visited Seattle on business. Spent - nights in...</td>\n",
       "      <td>IE</td>\n",
       "      <td>Tablet</td>\n",
       "      <td>happy</td>\n",
       "    </tr>\n",
       "    <tr>\n",
       "      <th>3</th>\n",
       "      <td>id80135</td>\n",
       "      <td>This hotel location is excellent and the rooms...</td>\n",
       "      <td>Edge</td>\n",
       "      <td>Mobile</td>\n",
       "      <td>not happy</td>\n",
       "    </tr>\n",
       "    <tr>\n",
       "      <th>4</th>\n",
       "      <td>id80136</td>\n",
       "      <td>This hotel is awesome I love the service Antho...</td>\n",
       "      <td>Firefox</td>\n",
       "      <td>Mobile</td>\n",
       "      <td>happy</td>\n",
       "    </tr>\n",
       "    <tr>\n",
       "      <th>...</th>\n",
       "      <td>...</td>\n",
       "      <td>...</td>\n",
       "      <td>...</td>\n",
       "      <td>...</td>\n",
       "      <td>...</td>\n",
       "    </tr>\n",
       "    <tr>\n",
       "      <th>29399</th>\n",
       "      <td>id109531</td>\n",
       "      <td>I stayed at the hotel and towers for a confere...</td>\n",
       "      <td>Chrome</td>\n",
       "      <td>Mobile</td>\n",
       "      <td>happy</td>\n",
       "    </tr>\n",
       "    <tr>\n",
       "      <th>29400</th>\n",
       "      <td>id109532</td>\n",
       "      <td>Trying to stay within the Marriott family and ...</td>\n",
       "      <td>IE</td>\n",
       "      <td>Tablet</td>\n",
       "      <td>happy</td>\n",
       "    </tr>\n",
       "    <tr>\n",
       "      <th>29401</th>\n",
       "      <td>id109533</td>\n",
       "      <td>We stayed for - nights with our little dog,ver...</td>\n",
       "      <td>Edge</td>\n",
       "      <td>Desktop</td>\n",
       "      <td>happy</td>\n",
       "    </tr>\n",
       "    <tr>\n",
       "      <th>29402</th>\n",
       "      <td>id109534</td>\n",
       "      <td>Stayed at the Yotel over the weekend and was v...</td>\n",
       "      <td>IE</td>\n",
       "      <td>Desktop</td>\n",
       "      <td>happy</td>\n",
       "    </tr>\n",
       "    <tr>\n",
       "      <th>29403</th>\n",
       "      <td>id109535</td>\n",
       "      <td>The Blakely is is comfortable is every way: th...</td>\n",
       "      <td>Firefox</td>\n",
       "      <td>Mobile</td>\n",
       "      <td>happy</td>\n",
       "    </tr>\n",
       "  </tbody>\n",
       "</table>\n",
       "<p>29404 rows × 5 columns</p>\n",
       "</div>"
      ],
      "text/plain": [
       "        User_ID                                        Description  \\\n",
       "0       id80132  Looking for a motel in close proximity to TV t...   \n",
       "1       id80133  Walking distance to Madison Square Garden and ...   \n",
       "2       id80134  Visited Seattle on business. Spent - nights in...   \n",
       "3       id80135  This hotel location is excellent and the rooms...   \n",
       "4       id80136  This hotel is awesome I love the service Antho...   \n",
       "...         ...                                                ...   \n",
       "29399  id109531  I stayed at the hotel and towers for a confere...   \n",
       "29400  id109532  Trying to stay within the Marriott family and ...   \n",
       "29401  id109533  We stayed for - nights with our little dog,ver...   \n",
       "29402  id109534  Stayed at the Yotel over the weekend and was v...   \n",
       "29403  id109535  The Blakely is is comfortable is every way: th...   \n",
       "\n",
       "      Browser_Used Device_Used Is_Response  \n",
       "0          Firefox      Mobile   not happy  \n",
       "1               IE     Desktop       happy  \n",
       "2               IE      Tablet       happy  \n",
       "3             Edge      Mobile   not happy  \n",
       "4          Firefox      Mobile       happy  \n",
       "...            ...         ...         ...  \n",
       "29399       Chrome      Mobile       happy  \n",
       "29400           IE      Tablet       happy  \n",
       "29401         Edge     Desktop       happy  \n",
       "29402           IE     Desktop       happy  \n",
       "29403      Firefox      Mobile       happy  \n",
       "\n",
       "[29404 rows x 5 columns]"
      ]
     },
     "execution_count": 182,
     "metadata": {},
     "output_type": "execute_result"
    }
   ],
   "source": [
    "test_data"
   ]
  },
  {
   "cell_type": "code",
   "execution_count": 185,
   "id": "b359b84b",
   "metadata": {
    "ExecuteTime": {
     "end_time": "2022-12-22T16:44:23.497726Z",
     "start_time": "2022-12-22T16:44:23.478739Z"
    }
   },
   "outputs": [],
   "source": [
    "lr_pred = test_data[['User_ID']]"
   ]
  },
  {
   "cell_type": "code",
   "execution_count": 186,
   "id": "4e2833c2",
   "metadata": {
    "ExecuteTime": {
     "end_time": "2022-12-22T16:44:30.601230Z",
     "start_time": "2022-12-22T16:44:24.848887Z"
    }
   },
   "outputs": [
    {
     "name": "stderr",
     "output_type": "stream",
     "text": [
      "C:\\Users\\Sagar\\AppData\\Local\\Temp/ipykernel_40040/851525991.py:1: SettingWithCopyWarning: \n",
      "A value is trying to be set on a copy of a slice from a DataFrame.\n",
      "Try using .loc[row_indexer,col_indexer] = value instead\n",
      "\n",
      "See the caveats in the documentation: https://pandas.pydata.org/pandas-docs/stable/user_guide/indexing.html#returning-a-view-versus-a-copy\n",
      "  lr_pred['Is_Response'] = pipe_lr.predict(preprocess(test_data))\n"
     ]
    }
   ],
   "source": [
    "lr_pred['Is_Response'] = pipe_lr.predict(preprocess(test_data))"
   ]
  },
  {
   "cell_type": "code",
   "execution_count": 187,
   "id": "3ae2dbe9",
   "metadata": {
    "ExecuteTime": {
     "end_time": "2022-12-22T16:44:43.018648Z",
     "start_time": "2022-12-22T16:44:42.970688Z"
    }
   },
   "outputs": [],
   "source": [
    "lr_pred[['User_ID','Is_Response']].to_csv('lr_pred_baseline_submission.csv',index=False)"
   ]
  },
  {
   "cell_type": "code",
   "execution_count": 189,
   "id": "488386dd",
   "metadata": {
    "ExecuteTime": {
     "end_time": "2022-12-22T16:47:26.932852Z",
     "start_time": "2022-12-22T16:47:26.905927Z"
    }
   },
   "outputs": [
    {
     "data": {
      "text/plain": [
       "{'memory': None,\n",
       " 'steps': [('ct',\n",
       "   ColumnTransformer(transformers=[('Tfidf_vectorizer', TfidfVectorizer(),\n",
       "                                    'Description'),\n",
       "                                   ('ohe_bu', OneHotEncoder(),\n",
       "                                    ['Browser_Used', 'Device_Used'])])),\n",
       "  ('lr', LogisticRegression())],\n",
       " 'verbose': False,\n",
       " 'ct': ColumnTransformer(transformers=[('Tfidf_vectorizer', TfidfVectorizer(),\n",
       "                                  'Description'),\n",
       "                                 ('ohe_bu', OneHotEncoder(),\n",
       "                                  ['Browser_Used', 'Device_Used'])]),\n",
       " 'lr': LogisticRegression(),\n",
       " 'ct__n_jobs': None,\n",
       " 'ct__remainder': 'drop',\n",
       " 'ct__sparse_threshold': 0.3,\n",
       " 'ct__transformer_weights': None,\n",
       " 'ct__transformers': [('Tfidf_vectorizer', TfidfVectorizer(), 'Description'),\n",
       "  ('ohe_bu', OneHotEncoder(), ['Browser_Used', 'Device_Used'])],\n",
       " 'ct__verbose': False,\n",
       " 'ct__verbose_feature_names_out': True,\n",
       " 'ct__Tfidf_vectorizer': TfidfVectorizer(),\n",
       " 'ct__ohe_bu': OneHotEncoder(),\n",
       " 'ct__Tfidf_vectorizer__analyzer': 'word',\n",
       " 'ct__Tfidf_vectorizer__binary': False,\n",
       " 'ct__Tfidf_vectorizer__decode_error': 'strict',\n",
       " 'ct__Tfidf_vectorizer__dtype': numpy.float64,\n",
       " 'ct__Tfidf_vectorizer__encoding': 'utf-8',\n",
       " 'ct__Tfidf_vectorizer__input': 'content',\n",
       " 'ct__Tfidf_vectorizer__lowercase': True,\n",
       " 'ct__Tfidf_vectorizer__max_df': 1.0,\n",
       " 'ct__Tfidf_vectorizer__max_features': None,\n",
       " 'ct__Tfidf_vectorizer__min_df': 1,\n",
       " 'ct__Tfidf_vectorizer__ngram_range': (1, 1),\n",
       " 'ct__Tfidf_vectorizer__norm': 'l2',\n",
       " 'ct__Tfidf_vectorizer__preprocessor': None,\n",
       " 'ct__Tfidf_vectorizer__smooth_idf': True,\n",
       " 'ct__Tfidf_vectorizer__stop_words': None,\n",
       " 'ct__Tfidf_vectorizer__strip_accents': None,\n",
       " 'ct__Tfidf_vectorizer__sublinear_tf': False,\n",
       " 'ct__Tfidf_vectorizer__token_pattern': '(?u)\\\\b\\\\w\\\\w+\\\\b',\n",
       " 'ct__Tfidf_vectorizer__tokenizer': None,\n",
       " 'ct__Tfidf_vectorizer__use_idf': True,\n",
       " 'ct__Tfidf_vectorizer__vocabulary': None,\n",
       " 'ct__ohe_bu__categories': 'auto',\n",
       " 'ct__ohe_bu__drop': None,\n",
       " 'ct__ohe_bu__dtype': numpy.float64,\n",
       " 'ct__ohe_bu__handle_unknown': 'error',\n",
       " 'ct__ohe_bu__max_categories': None,\n",
       " 'ct__ohe_bu__min_frequency': None,\n",
       " 'ct__ohe_bu__sparse': True,\n",
       " 'lr__C': 1.0,\n",
       " 'lr__class_weight': None,\n",
       " 'lr__dual': False,\n",
       " 'lr__fit_intercept': True,\n",
       " 'lr__intercept_scaling': 1,\n",
       " 'lr__l1_ratio': None,\n",
       " 'lr__max_iter': 100,\n",
       " 'lr__multi_class': 'auto',\n",
       " 'lr__n_jobs': None,\n",
       " 'lr__penalty': 'l2',\n",
       " 'lr__random_state': None,\n",
       " 'lr__solver': 'lbfgs',\n",
       " 'lr__tol': 0.0001,\n",
       " 'lr__verbose': 0,\n",
       " 'lr__warm_start': False}"
      ]
     },
     "execution_count": 189,
     "metadata": {},
     "output_type": "execute_result"
    }
   ],
   "source": [
    "pipe_lr.get_params()"
   ]
  },
  {
   "cell_type": "markdown",
   "id": "f9d9a6b0",
   "metadata": {},
   "source": [
    "#### Accuracy ---> 0.64036 with baseline LR model, tuning with class weights and alphas"
   ]
  },
  {
   "cell_type": "code",
   "execution_count": null,
   "id": "d9f73de0",
   "metadata": {},
   "outputs": [],
   "source": [
    "param_grid = {'lr__C':[pow(10,x) for x in (-3,4)],'lr_class_weight':[]}\n",
    "gs_lr = GridSearchCV(pipe_lr,param_grid)"
   ]
  }
 ],
 "metadata": {
  "kernelspec": {
   "display_name": "Python [conda env:root] *",
   "language": "python",
   "name": "conda-root-py"
  },
  "language_info": {
   "codemirror_mode": {
    "name": "ipython",
    "version": 3
   },
   "file_extension": ".py",
   "mimetype": "text/x-python",
   "name": "python",
   "nbconvert_exporter": "python",
   "pygments_lexer": "ipython3",
   "version": "3.9.7"
  },
  "toc": {
   "base_numbering": 1,
   "nav_menu": {},
   "number_sections": true,
   "sideBar": true,
   "skip_h1_title": false,
   "title_cell": "Table of Contents",
   "title_sidebar": "Contents",
   "toc_cell": false,
   "toc_position": {},
   "toc_section_display": true,
   "toc_window_display": false
  },
  "varInspector": {
   "cols": {
    "lenName": 16,
    "lenType": 16,
    "lenVar": 40
   },
   "kernels_config": {
    "python": {
     "delete_cmd_postfix": "",
     "delete_cmd_prefix": "del ",
     "library": "var_list.py",
     "varRefreshCmd": "print(var_dic_list())"
    },
    "r": {
     "delete_cmd_postfix": ") ",
     "delete_cmd_prefix": "rm(",
     "library": "var_list.r",
     "varRefreshCmd": "cat(var_dic_list()) "
    }
   },
   "types_to_exclude": [
    "module",
    "function",
    "builtin_function_or_method",
    "instance",
    "_Feature"
   ],
   "window_display": false
  }
 },
 "nbformat": 4,
 "nbformat_minor": 5
}
